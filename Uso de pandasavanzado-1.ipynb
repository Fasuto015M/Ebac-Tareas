{
 "cells": [
  {
   "cell_type": "code",
   "execution_count": 1,
   "metadata": {},
   "outputs": [],
   "source": [
    "import pandas as pd \n",
    "import numpy as np\n",
    "import seaborn as sns"
   ]
  },
  {
   "cell_type": "code",
   "execution_count": 2,
   "metadata": {},
   "outputs": [
    {
     "data": {
      "text/plain": [
       "'/Users/fausto/Desktop/Tareas de python/Ejerciciosy practicas de python/Actividades'"
      ]
     },
     "execution_count": 2,
     "metadata": {},
     "output_type": "execute_result"
    }
   ],
   "source": [
    "import os \n",
    "os.chdir('/Users/fausto/Desktop/Tareas de python/Ejerciciosy practicas de python/Actividades')\n",
    "os.getcwd()"
   ]
  },
  {
   "cell_type": "code",
   "execution_count": 3,
   "metadata": {},
   "outputs": [
    {
     "data": {
      "text/html": [
       "<div>\n",
       "<style scoped>\n",
       "    .dataframe tbody tr th:only-of-type {\n",
       "        vertical-align: middle;\n",
       "    }\n",
       "\n",
       "    .dataframe tbody tr th {\n",
       "        vertical-align: top;\n",
       "    }\n",
       "\n",
       "    .dataframe thead th {\n",
       "        text-align: right;\n",
       "    }\n",
       "</style>\n",
       "<table border=\"1\" class=\"dataframe\">\n",
       "  <thead>\n",
       "    <tr style=\"text-align: right;\">\n",
       "      <th></th>\n",
       "      <th>ID</th>\n",
       "      <th>Name</th>\n",
       "      <th>Age</th>\n",
       "      <th>Nationality</th>\n",
       "      <th>Overall</th>\n",
       "      <th>Potential</th>\n",
       "      <th>Club</th>\n",
       "      <th>Value</th>\n",
       "      <th>Wage</th>\n",
       "      <th>Preferred Foot</th>\n",
       "      <th>International Reputation</th>\n",
       "      <th>Skill Moves</th>\n",
       "      <th>Position</th>\n",
       "      <th>Joined</th>\n",
       "      <th>Contract Valid Until</th>\n",
       "      <th>Height</th>\n",
       "      <th>Weight</th>\n",
       "      <th>Release Clause</th>\n",
       "    </tr>\n",
       "  </thead>\n",
       "  <tbody>\n",
       "    <tr>\n",
       "      <th>16079</th>\n",
       "      <td>242831</td>\n",
       "      <td>N. Gómez</td>\n",
       "      <td>21</td>\n",
       "      <td>Argentina</td>\n",
       "      <td>58</td>\n",
       "      <td>64</td>\n",
       "      <td>Rosario Central</td>\n",
       "      <td>150.0</td>\n",
       "      <td>2.0</td>\n",
       "      <td>Right</td>\n",
       "      <td>1.0</td>\n",
       "      <td>2.0</td>\n",
       "      <td>RB</td>\n",
       "      <td>2018</td>\n",
       "      <td>2021-01-01</td>\n",
       "      <td>5.833333</td>\n",
       "      <td>163.0</td>\n",
       "      <td>255.000000</td>\n",
       "    </tr>\n",
       "    <tr>\n",
       "      <th>9779</th>\n",
       "      <td>238050</td>\n",
       "      <td>C. Ejuke</td>\n",
       "      <td>20</td>\n",
       "      <td>Nigeria</td>\n",
       "      <td>66</td>\n",
       "      <td>77</td>\n",
       "      <td>Vålerenga Fotball</td>\n",
       "      <td>1100.0</td>\n",
       "      <td>1.0</td>\n",
       "      <td>Right</td>\n",
       "      <td>1.0</td>\n",
       "      <td>4.0</td>\n",
       "      <td>RM</td>\n",
       "      <td>2017</td>\n",
       "      <td>2020-01-01</td>\n",
       "      <td>5.750000</td>\n",
       "      <td>159.0</td>\n",
       "      <td>1600.000000</td>\n",
       "    </tr>\n",
       "    <tr>\n",
       "      <th>16958</th>\n",
       "      <td>238298</td>\n",
       "      <td>M. Miño</td>\n",
       "      <td>20</td>\n",
       "      <td>Argentina</td>\n",
       "      <td>56</td>\n",
       "      <td>70</td>\n",
       "      <td>Rosario Central</td>\n",
       "      <td>160.0</td>\n",
       "      <td>1.0</td>\n",
       "      <td>Right</td>\n",
       "      <td>1.0</td>\n",
       "      <td>1.0</td>\n",
       "      <td>GK</td>\n",
       "      <td>2017</td>\n",
       "      <td>2021-01-01</td>\n",
       "      <td>6.000000</td>\n",
       "      <td>176.0</td>\n",
       "      <td>340.000000</td>\n",
       "    </tr>\n",
       "    <tr>\n",
       "      <th>12249</th>\n",
       "      <td>242221</td>\n",
       "      <td>A. Al Nemer</td>\n",
       "      <td>26</td>\n",
       "      <td>Saudi Arabia</td>\n",
       "      <td>63</td>\n",
       "      <td>64</td>\n",
       "      <td>Al Wehda</td>\n",
       "      <td>425.0</td>\n",
       "      <td>5.0</td>\n",
       "      <td>Right</td>\n",
       "      <td>1.0</td>\n",
       "      <td>4.0</td>\n",
       "      <td>CAM</td>\n",
       "      <td>2018</td>\n",
       "      <td>2020-01-01</td>\n",
       "      <td>5.666667</td>\n",
       "      <td>132.0</td>\n",
       "      <td>754.000000</td>\n",
       "    </tr>\n",
       "    <tr>\n",
       "      <th>10419</th>\n",
       "      <td>211322</td>\n",
       "      <td>J. Untersee</td>\n",
       "      <td>24</td>\n",
       "      <td>Switzerland</td>\n",
       "      <td>65</td>\n",
       "      <td>71</td>\n",
       "      <td>Empoli</td>\n",
       "      <td>750.0</td>\n",
       "      <td>17.0</td>\n",
       "      <td>Right</td>\n",
       "      <td>1.0</td>\n",
       "      <td>2.0</td>\n",
       "      <td>RM</td>\n",
       "      <td>2016</td>\n",
       "      <td>2019-06-30</td>\n",
       "      <td>5.916667</td>\n",
       "      <td>174.0</td>\n",
       "      <td>4585.060806</td>\n",
       "    </tr>\n",
       "  </tbody>\n",
       "</table>\n",
       "</div>"
      ],
      "text/plain": [
       "           ID         Name  Age   Nationality  Overall  Potential  \\\n",
       "16079  242831     N. Gómez   21     Argentina       58         64   \n",
       "9779   238050     C. Ejuke   20       Nigeria       66         77   \n",
       "16958  238298      M. Miño   20     Argentina       56         70   \n",
       "12249  242221  A. Al Nemer   26  Saudi Arabia       63         64   \n",
       "10419  211322  J. Untersee   24   Switzerland       65         71   \n",
       "\n",
       "                    Club   Value  Wage Preferred Foot  \\\n",
       "16079    Rosario Central   150.0   2.0          Right   \n",
       "9779   Vålerenga Fotball  1100.0   1.0          Right   \n",
       "16958    Rosario Central   160.0   1.0          Right   \n",
       "12249           Al Wehda   425.0   5.0          Right   \n",
       "10419             Empoli   750.0  17.0          Right   \n",
       "\n",
       "       International Reputation  Skill Moves Position  Joined  \\\n",
       "16079                       1.0          2.0       RB    2018   \n",
       "9779                        1.0          4.0       RM    2017   \n",
       "16958                       1.0          1.0       GK    2017   \n",
       "12249                       1.0          4.0      CAM    2018   \n",
       "10419                       1.0          2.0       RM    2016   \n",
       "\n",
       "      Contract Valid Until    Height  Weight  Release Clause  \n",
       "16079           2021-01-01  5.833333   163.0      255.000000  \n",
       "9779            2020-01-01  5.750000   159.0     1600.000000  \n",
       "16958           2021-01-01  6.000000   176.0      340.000000  \n",
       "12249           2020-01-01  5.666667   132.0      754.000000  \n",
       "10419           2019-06-30  5.916667   174.0     4585.060806  "
      ]
     },
     "execution_count": 3,
     "metadata": {},
     "output_type": "execute_result"
    }
   ],
   "source": [
    "df = pd.read_csv('fifa_eda.csv')\n",
    "df.sample(5)"
   ]
  },
  {
   "cell_type": "code",
   "execution_count": 4,
   "metadata": {},
   "outputs": [],
   "source": [
    "#Operaciones basicas de numpy \n",
    "#Tranformar una columna Age a un array \n",
    "age_np = df['Age'].to_numpy()\n",
    "height_np = df['Height'].to_numpy()\n",
    "weight_np = df['Weight'].to_numpy()\n",
    "overral_np = df['Overall'].to_numpy()\n",
    "potential_np = df['Potential'].to_numpy()"
   ]
  },
  {
   "cell_type": "code",
   "execution_count": 5,
   "metadata": {},
   "outputs": [
    {
     "data": {
      "text/plain": [
       "array([31, 33, 26, 27, 27, 27, 32, 31, 32, 25])"
      ]
     },
     "execution_count": 5,
     "metadata": {},
     "output_type": "execute_result"
    }
   ],
   "source": [
    "#Obtener los primeros 10 registros, la manera de obtenerlos cambia\n",
    "age_np[0:10]"
   ]
  },
  {
   "cell_type": "code",
   "execution_count": 6,
   "metadata": {},
   "outputs": [
    {
     "data": {
      "text/plain": [
       "0    31\n",
       "1    33\n",
       "2    26\n",
       "3    27\n",
       "4    27\n",
       "5    27\n",
       "6    32\n",
       "7    31\n",
       "8    32\n",
       "9    25\n",
       "Name: Age, dtype: int64"
      ]
     },
     "execution_count": 6,
     "metadata": {},
     "output_type": "execute_result"
    }
   ],
   "source": [
    "#Validando el data frame \n",
    "df['Age'][0:10]"
   ]
  },
  {
   "cell_type": "code",
   "execution_count": 7,
   "metadata": {},
   "outputs": [
    {
     "data": {
      "text/plain": [
       "18207"
      ]
     },
     "execution_count": 7,
     "metadata": {},
     "output_type": "execute_result"
    }
   ],
   "source": [
    "#Cuenta los valores que no son cero \n",
    "np.count_nonzero(age_np)"
   ]
  },
  {
   "cell_type": "code",
   "execution_count": 8,
   "metadata": {},
   "outputs": [
    {
     "data": {
      "text/plain": [
       "(18207,)"
      ]
     },
     "execution_count": 8,
     "metadata": {},
     "output_type": "execute_result"
    }
   ],
   "source": [
    "np.shape(age_np)"
   ]
  },
  {
   "cell_type": "code",
   "execution_count": 9,
   "metadata": {},
   "outputs": [
    {
     "data": {
      "text/plain": [
       "array([31, 33,  0, ...,  0,  0,  0])"
      ]
     },
     "execution_count": 9,
     "metadata": {},
     "output_type": "execute_result"
    }
   ],
   "source": [
    "#Jugadores mayores a 30 años \n",
    "np.where(age_np>30,age_np,0)"
   ]
  },
  {
   "cell_type": "code",
   "execution_count": 10,
   "metadata": {},
   "outputs": [
    {
     "data": {
      "text/plain": [
       "45"
      ]
     },
     "execution_count": 10,
     "metadata": {},
     "output_type": "execute_result"
    }
   ],
   "source": [
    "#Eljugador mas viejo\n",
    "oldest= np.argmax(age_np)\n",
    "age_np[oldest]"
   ]
  },
  {
   "cell_type": "code",
   "execution_count": 11,
   "metadata": {},
   "outputs": [
    {
     "name": "stdout",
     "output_type": "stream",
     "text": [
      "El total de jugadores es:  18207\n"
     ]
    }
   ],
   "source": [
    "#print el número total de jugadores \n",
    "#Print el ultimo jugador\n",
    "\n",
    "print('El total de jugadores es: ',len(age_np))"
   ]
  },
  {
   "cell_type": "code",
   "execution_count": 12,
   "metadata": {},
   "outputs": [
    {
     "ename": "IndexError",
     "evalue": "index 18207 is out of bounds for axis 0 with size 18207",
     "output_type": "error",
     "traceback": [
      "\u001b[0;31m---------------------------------------------------------------------------\u001b[0m",
      "\u001b[0;31mIndexError\u001b[0m                                Traceback (most recent call last)",
      "Cell \u001b[0;32mIn[12], line 1\u001b[0m\n\u001b[0;32m----> 1\u001b[0m age_np[\u001b[38;5;241m18207\u001b[39m]\n",
      "\u001b[0;31mIndexError\u001b[0m: index 18207 is out of bounds for axis 0 with size 18207"
     ]
    }
   ],
   "source": [
    "age_np[18207]"
   ]
  },
  {
   "cell_type": "code",
   "execution_count": 13,
   "metadata": {},
   "outputs": [
    {
     "data": {
      "text/plain": [
       "16"
      ]
     },
     "execution_count": 13,
     "metadata": {},
     "output_type": "execute_result"
    }
   ],
   "source": [
    "age_np[18206]"
   ]
  },
  {
   "cell_type": "code",
   "execution_count": 14,
   "metadata": {},
   "outputs": [
    {
     "name": "stdout",
     "output_type": "stream",
     "text": [
      "La edad maxima de los jugadores es :  45\n",
      "La edad minima de los jugadores es :  16\n"
     ]
    }
   ],
   "source": [
    "#Edad minima y maxima de los jugadoes \n",
    "print('La edad maxima de los jugadores es : ',np.amax(age_np))\n",
    "print('La edad minima de los jugadores es : ',np.amin(age_np))"
   ]
  },
  {
   "cell_type": "code",
   "execution_count": 16,
   "metadata": {},
   "outputs": [
    {
     "data": {
      "text/plain": [
       "array([31, 33, 26, ..., 16, 17, 16])"
      ]
     },
     "execution_count": 16,
     "metadata": {},
     "output_type": "execute_result"
    }
   ],
   "source": [
    "age_np"
   ]
  },
  {
   "cell_type": "code",
   "execution_count": 22,
   "metadata": {},
   "outputs": [
    {
     "data": {
      "text/plain": [
       "array([31, 33, 26, 27, 27, 27, 32, 31, 32, 25])"
      ]
     },
     "execution_count": 22,
     "metadata": {},
     "output_type": "execute_result"
    }
   ],
   "source": [
    "#Generar unarray de las primeras edades, * Ejercicio deordenamiento \n",
    "#Array de numeros \n",
    "age_np[0:10]"
   ]
  },
  {
   "cell_type": "code",
   "execution_count": 25,
   "metadata": {},
   "outputs": [
    {
     "data": {
      "text/plain": [
       "array([16, 16, 16, ..., 44, 44, 45])"
      ]
     },
     "execution_count": 25,
     "metadata": {},
     "output_type": "execute_result"
    }
   ],
   "source": [
    "#de menor a mayor \n",
    "\n",
    "age_topnum = np.sort(age_np)\n",
    "age_topnum"
   ]
  },
  {
   "cell_type": "code",
   "execution_count": 26,
   "metadata": {},
   "outputs": [
    {
     "data": {
      "text/plain": [
       "array([45, 44, 44, ..., 16, 16, 16])"
      ]
     },
     "execution_count": 26,
     "metadata": {},
     "output_type": "execute_result"
    }
   ],
   "source": [
    "#de mayor a menor \n",
    "age_toprev = age_topnum[::-1]\n",
    "age_toprev"
   ]
  },
  {
   "cell_type": "code",
   "execution_count": 27,
   "metadata": {},
   "outputs": [
    {
     "data": {
      "text/plain": [
       "array([45, 44, 44, 42, 41, 41, 41, 41, 41, 40, 40, 40, 40, 40, 40, 40, 40,\n",
       "       40, 40, 40])"
      ]
     },
     "execution_count": 27,
     "metadata": {},
     "output_type": "execute_result"
    }
   ],
   "source": [
    "#Top 20 de los mas viejos \n",
    "age_toprev [0:20]"
   ]
  },
  {
   "cell_type": "code",
   "execution_count": 28,
   "metadata": {},
   "outputs": [
    {
     "data": {
      "text/html": [
       "<div>\n",
       "<style scoped>\n",
       "    .dataframe tbody tr th:only-of-type {\n",
       "        vertical-align: middle;\n",
       "    }\n",
       "\n",
       "    .dataframe tbody tr th {\n",
       "        vertical-align: top;\n",
       "    }\n",
       "\n",
       "    .dataframe thead th {\n",
       "        text-align: right;\n",
       "    }\n",
       "</style>\n",
       "<table border=\"1\" class=\"dataframe\">\n",
       "  <thead>\n",
       "    <tr style=\"text-align: right;\">\n",
       "      <th></th>\n",
       "      <th>ID</th>\n",
       "      <th>Name</th>\n",
       "      <th>Age</th>\n",
       "      <th>Nationality</th>\n",
       "      <th>Overall</th>\n",
       "      <th>Potential</th>\n",
       "      <th>Club</th>\n",
       "      <th>Value</th>\n",
       "      <th>Wage</th>\n",
       "      <th>Preferred Foot</th>\n",
       "      <th>International Reputation</th>\n",
       "      <th>Skill Moves</th>\n",
       "      <th>Position</th>\n",
       "      <th>Joined</th>\n",
       "      <th>Contract Valid Until</th>\n",
       "      <th>Height</th>\n",
       "      <th>Weight</th>\n",
       "      <th>Release Clause</th>\n",
       "    </tr>\n",
       "  </thead>\n",
       "  <tbody>\n",
       "    <tr>\n",
       "      <th>4741</th>\n",
       "      <td>140029</td>\n",
       "      <td>O. Pérez</td>\n",
       "      <td>45</td>\n",
       "      <td>Mexico</td>\n",
       "      <td>71</td>\n",
       "      <td>71</td>\n",
       "      <td>Pachuca</td>\n",
       "      <td>160.0</td>\n",
       "      <td>8.0</td>\n",
       "      <td>Right</td>\n",
       "      <td>2.0</td>\n",
       "      <td>1.0</td>\n",
       "      <td>GK</td>\n",
       "      <td>1991</td>\n",
       "      <td>2021-01-01</td>\n",
       "      <td>5.666667</td>\n",
       "      <td>165.0</td>\n",
       "      <td>272.000000</td>\n",
       "    </tr>\n",
       "    <tr>\n",
       "      <th>18183</th>\n",
       "      <td>53748</td>\n",
       "      <td>K. Pilkington</td>\n",
       "      <td>44</td>\n",
       "      <td>England</td>\n",
       "      <td>48</td>\n",
       "      <td>48</td>\n",
       "      <td>Cambridge United</td>\n",
       "      <td>NaN</td>\n",
       "      <td>1.0</td>\n",
       "      <td>Right</td>\n",
       "      <td>1.0</td>\n",
       "      <td>1.0</td>\n",
       "      <td>GK</td>\n",
       "      <td>2018</td>\n",
       "      <td>2023-01-01</td>\n",
       "      <td>6.166667</td>\n",
       "      <td>190.0</td>\n",
       "      <td>4585.060806</td>\n",
       "    </tr>\n",
       "    <tr>\n",
       "      <th>17726</th>\n",
       "      <td>51963</td>\n",
       "      <td>T. Warner</td>\n",
       "      <td>44</td>\n",
       "      <td>Trinidad &amp; Tobago</td>\n",
       "      <td>53</td>\n",
       "      <td>53</td>\n",
       "      <td>Accrington Stanley</td>\n",
       "      <td>NaN</td>\n",
       "      <td>1.0</td>\n",
       "      <td>Right</td>\n",
       "      <td>1.0</td>\n",
       "      <td>1.0</td>\n",
       "      <td>GK</td>\n",
       "      <td>2018</td>\n",
       "      <td>2019-01-01</td>\n",
       "      <td>6.333333</td>\n",
       "      <td>185.0</td>\n",
       "      <td>4585.060806</td>\n",
       "    </tr>\n",
       "    <tr>\n",
       "      <th>10545</th>\n",
       "      <td>140183</td>\n",
       "      <td>S. Narazaki</td>\n",
       "      <td>42</td>\n",
       "      <td>Japan</td>\n",
       "      <td>65</td>\n",
       "      <td>65</td>\n",
       "      <td>Nagoya Grampus</td>\n",
       "      <td>40.0</td>\n",
       "      <td>1.0</td>\n",
       "      <td>Right</td>\n",
       "      <td>2.0</td>\n",
       "      <td>1.0</td>\n",
       "      <td>GK</td>\n",
       "      <td>1999</td>\n",
       "      <td>2021-01-01</td>\n",
       "      <td>6.166667</td>\n",
       "      <td>176.0</td>\n",
       "      <td>50.000000</td>\n",
       "    </tr>\n",
       "    <tr>\n",
       "      <th>7225</th>\n",
       "      <td>142998</td>\n",
       "      <td>C. Muñoz</td>\n",
       "      <td>41</td>\n",
       "      <td>Argentina</td>\n",
       "      <td>68</td>\n",
       "      <td>68</td>\n",
       "      <td>CD Universidad de Concepción</td>\n",
       "      <td>60.0</td>\n",
       "      <td>1.0</td>\n",
       "      <td>Right</td>\n",
       "      <td>1.0</td>\n",
       "      <td>1.0</td>\n",
       "      <td>GK</td>\n",
       "      <td>2013</td>\n",
       "      <td>2018-01-01</td>\n",
       "      <td>5.833333</td>\n",
       "      <td>161.0</td>\n",
       "      <td>84.000000</td>\n",
       "    </tr>\n",
       "    <tr>\n",
       "      <th>1120</th>\n",
       "      <td>156092</td>\n",
       "      <td>J. Villar</td>\n",
       "      <td>41</td>\n",
       "      <td>Paraguay</td>\n",
       "      <td>77</td>\n",
       "      <td>77</td>\n",
       "      <td>NaN</td>\n",
       "      <td>NaN</td>\n",
       "      <td>0.0</td>\n",
       "      <td>Right</td>\n",
       "      <td>2.0</td>\n",
       "      <td>1.0</td>\n",
       "      <td>GK</td>\n",
       "      <td>2016</td>\n",
       "      <td>NaN</td>\n",
       "      <td>5.916667</td>\n",
       "      <td>187.0</td>\n",
       "      <td>4585.060806</td>\n",
       "    </tr>\n",
       "    <tr>\n",
       "      <th>12192</th>\n",
       "      <td>208927</td>\n",
       "      <td>H. Sulaimani</td>\n",
       "      <td>41</td>\n",
       "      <td>Saudi Arabia</td>\n",
       "      <td>63</td>\n",
       "      <td>63</td>\n",
       "      <td>Ohod Club</td>\n",
       "      <td>NaN</td>\n",
       "      <td>3.0</td>\n",
       "      <td>Left</td>\n",
       "      <td>1.0</td>\n",
       "      <td>3.0</td>\n",
       "      <td>LB</td>\n",
       "      <td>2018</td>\n",
       "      <td>2019-01-01</td>\n",
       "      <td>5.666667</td>\n",
       "      <td>154.0</td>\n",
       "      <td>4585.060806</td>\n",
       "    </tr>\n",
       "    <tr>\n",
       "      <th>15426</th>\n",
       "      <td>18745</td>\n",
       "      <td>M. Tyler</td>\n",
       "      <td>41</td>\n",
       "      <td>England</td>\n",
       "      <td>59</td>\n",
       "      <td>59</td>\n",
       "      <td>Peterborough United</td>\n",
       "      <td>10.0</td>\n",
       "      <td>1.0</td>\n",
       "      <td>Right</td>\n",
       "      <td>1.0</td>\n",
       "      <td>1.0</td>\n",
       "      <td>GK</td>\n",
       "      <td>2016</td>\n",
       "      <td>2019-01-01</td>\n",
       "      <td>6.000000</td>\n",
       "      <td>183.0</td>\n",
       "      <td>18.000000</td>\n",
       "    </tr>\n",
       "    <tr>\n",
       "      <th>4228</th>\n",
       "      <td>3665</td>\n",
       "      <td>B. Nivet</td>\n",
       "      <td>41</td>\n",
       "      <td>France</td>\n",
       "      <td>71</td>\n",
       "      <td>71</td>\n",
       "      <td>ESTAC Troyes</td>\n",
       "      <td>NaN</td>\n",
       "      <td>5.0</td>\n",
       "      <td>Right</td>\n",
       "      <td>2.0</td>\n",
       "      <td>3.0</td>\n",
       "      <td>CAM</td>\n",
       "      <td>2012</td>\n",
       "      <td>2019-01-01</td>\n",
       "      <td>5.833333</td>\n",
       "      <td>165.0</td>\n",
       "      <td>4585.060806</td>\n",
       "    </tr>\n",
       "    <tr>\n",
       "      <th>10356</th>\n",
       "      <td>49511</td>\n",
       "      <td>F. Kippe</td>\n",
       "      <td>40</td>\n",
       "      <td>Norway</td>\n",
       "      <td>65</td>\n",
       "      <td>65</td>\n",
       "      <td>Lillestrøm SK</td>\n",
       "      <td>NaN</td>\n",
       "      <td>1.0</td>\n",
       "      <td>Left</td>\n",
       "      <td>1.0</td>\n",
       "      <td>2.0</td>\n",
       "      <td>LCB</td>\n",
       "      <td>2002</td>\n",
       "      <td>2019-01-01</td>\n",
       "      <td>6.333333</td>\n",
       "      <td>214.0</td>\n",
       "      <td>4585.060806</td>\n",
       "    </tr>\n",
       "    <tr>\n",
       "      <th>16264</th>\n",
       "      <td>28157</td>\n",
       "      <td>P. van der Vlag</td>\n",
       "      <td>40</td>\n",
       "      <td>Netherlands</td>\n",
       "      <td>58</td>\n",
       "      <td>58</td>\n",
       "      <td>FC Emmen</td>\n",
       "      <td>10.0</td>\n",
       "      <td>1.0</td>\n",
       "      <td>Right</td>\n",
       "      <td>1.0</td>\n",
       "      <td>1.0</td>\n",
       "      <td>GK</td>\n",
       "      <td>2017</td>\n",
       "      <td>2019-01-01</td>\n",
       "      <td>6.083333</td>\n",
       "      <td>168.0</td>\n",
       "      <td>15.000000</td>\n",
       "    </tr>\n",
       "    <tr>\n",
       "      <th>9484</th>\n",
       "      <td>176540</td>\n",
       "      <td>B. Castillo</td>\n",
       "      <td>40</td>\n",
       "      <td>Colombia</td>\n",
       "      <td>66</td>\n",
       "      <td>66</td>\n",
       "      <td>Atlético Huila</td>\n",
       "      <td>40.0</td>\n",
       "      <td>1.0</td>\n",
       "      <td>Right</td>\n",
       "      <td>1.0</td>\n",
       "      <td>1.0</td>\n",
       "      <td>GK</td>\n",
       "      <td>2017</td>\n",
       "      <td>2021-01-01</td>\n",
       "      <td>6.083333</td>\n",
       "      <td>190.0</td>\n",
       "      <td>54.000000</td>\n",
       "    </tr>\n",
       "    <tr>\n",
       "      <th>4187</th>\n",
       "      <td>156483</td>\n",
       "      <td>C. Lucchetti</td>\n",
       "      <td>40</td>\n",
       "      <td>Argentina</td>\n",
       "      <td>71</td>\n",
       "      <td>71</td>\n",
       "      <td>Atlético Tucumán</td>\n",
       "      <td>160.0</td>\n",
       "      <td>4.0</td>\n",
       "      <td>Right</td>\n",
       "      <td>1.0</td>\n",
       "      <td>1.0</td>\n",
       "      <td>GK</td>\n",
       "      <td>2012</td>\n",
       "      <td>2019-01-01</td>\n",
       "      <td>6.000000</td>\n",
       "      <td>152.0</td>\n",
       "      <td>240.000000</td>\n",
       "    </tr>\n",
       "    <tr>\n",
       "      <th>2821</th>\n",
       "      <td>232543</td>\n",
       "      <td>S. Bertoli</td>\n",
       "      <td>40</td>\n",
       "      <td>Argentina</td>\n",
       "      <td>73</td>\n",
       "      <td>73</td>\n",
       "      <td>Patronato</td>\n",
       "      <td>270.0</td>\n",
       "      <td>6.0</td>\n",
       "      <td>Right</td>\n",
       "      <td>1.0</td>\n",
       "      <td>1.0</td>\n",
       "      <td>GK</td>\n",
       "      <td>2003</td>\n",
       "      <td>2019-01-01</td>\n",
       "      <td>6.083333</td>\n",
       "      <td>179.0</td>\n",
       "      <td>392.000000</td>\n",
       "    </tr>\n",
       "    <tr>\n",
       "      <th>3550</th>\n",
       "      <td>29552</td>\n",
       "      <td>S. Nakamura</td>\n",
       "      <td>40</td>\n",
       "      <td>Japan</td>\n",
       "      <td>72</td>\n",
       "      <td>72</td>\n",
       "      <td>Júbilo Iwata</td>\n",
       "      <td>NaN</td>\n",
       "      <td>4.0</td>\n",
       "      <td>Left</td>\n",
       "      <td>3.0</td>\n",
       "      <td>3.0</td>\n",
       "      <td>CAM</td>\n",
       "      <td>2017</td>\n",
       "      <td>2021-01-01</td>\n",
       "      <td>5.833333</td>\n",
       "      <td>157.0</td>\n",
       "      <td>4585.060806</td>\n",
       "    </tr>\n",
       "    <tr>\n",
       "      <th>1294</th>\n",
       "      <td>14907</td>\n",
       "      <td>A. Bizzarri</td>\n",
       "      <td>40</td>\n",
       "      <td>Argentina</td>\n",
       "      <td>76</td>\n",
       "      <td>76</td>\n",
       "      <td>Foggia</td>\n",
       "      <td>525.0</td>\n",
       "      <td>2.0</td>\n",
       "      <td>Right</td>\n",
       "      <td>2.0</td>\n",
       "      <td>1.0</td>\n",
       "      <td>GK</td>\n",
       "      <td>2018</td>\n",
       "      <td>2019-01-01</td>\n",
       "      <td>6.166667</td>\n",
       "      <td>196.0</td>\n",
       "      <td>840.000000</td>\n",
       "    </tr>\n",
       "    <tr>\n",
       "      <th>14129</th>\n",
       "      <td>156480</td>\n",
       "      <td>Y. Nakazawa</td>\n",
       "      <td>40</td>\n",
       "      <td>Japan</td>\n",
       "      <td>61</td>\n",
       "      <td>61</td>\n",
       "      <td>Yokohama F. Marinos</td>\n",
       "      <td>NaN</td>\n",
       "      <td>1.0</td>\n",
       "      <td>Right</td>\n",
       "      <td>2.0</td>\n",
       "      <td>2.0</td>\n",
       "      <td>CB</td>\n",
       "      <td>2002</td>\n",
       "      <td>2022-01-01</td>\n",
       "      <td>6.166667</td>\n",
       "      <td>172.0</td>\n",
       "      <td>4585.060806</td>\n",
       "    </tr>\n",
       "    <tr>\n",
       "      <th>41</th>\n",
       "      <td>1179</td>\n",
       "      <td>G. Buffon</td>\n",
       "      <td>40</td>\n",
       "      <td>Italy</td>\n",
       "      <td>88</td>\n",
       "      <td>88</td>\n",
       "      <td>Paris Saint-Germain</td>\n",
       "      <td>4000.0</td>\n",
       "      <td>77.0</td>\n",
       "      <td>Right</td>\n",
       "      <td>4.0</td>\n",
       "      <td>1.0</td>\n",
       "      <td>GK</td>\n",
       "      <td>2018</td>\n",
       "      <td>2019-01-01</td>\n",
       "      <td>6.333333</td>\n",
       "      <td>203.0</td>\n",
       "      <td>7400.000000</td>\n",
       "    </tr>\n",
       "    <tr>\n",
       "      <th>864</th>\n",
       "      <td>153260</td>\n",
       "      <td>Hilton</td>\n",
       "      <td>40</td>\n",
       "      <td>Brazil</td>\n",
       "      <td>78</td>\n",
       "      <td>78</td>\n",
       "      <td>Montpellier HSC</td>\n",
       "      <td>NaN</td>\n",
       "      <td>18.0</td>\n",
       "      <td>Right</td>\n",
       "      <td>2.0</td>\n",
       "      <td>3.0</td>\n",
       "      <td>CB</td>\n",
       "      <td>2011</td>\n",
       "      <td>2019-01-01</td>\n",
       "      <td>5.916667</td>\n",
       "      <td>172.0</td>\n",
       "      <td>4585.060806</td>\n",
       "    </tr>\n",
       "    <tr>\n",
       "      <th>12453</th>\n",
       "      <td>214372</td>\n",
       "      <td>W. Díaz</td>\n",
       "      <td>40</td>\n",
       "      <td>Colombia</td>\n",
       "      <td>63</td>\n",
       "      <td>63</td>\n",
       "      <td>Jaguares de Córdoba</td>\n",
       "      <td>NaN</td>\n",
       "      <td>1.0</td>\n",
       "      <td>Right</td>\n",
       "      <td>1.0</td>\n",
       "      <td>2.0</td>\n",
       "      <td>LCB</td>\n",
       "      <td>2016</td>\n",
       "      <td>2023-01-01</td>\n",
       "      <td>5.833333</td>\n",
       "      <td>168.0</td>\n",
       "      <td>4585.060806</td>\n",
       "    </tr>\n",
       "  </tbody>\n",
       "</table>\n",
       "</div>"
      ],
      "text/plain": [
       "           ID             Name  Age        Nationality  Overall  Potential  \\\n",
       "4741   140029         O. Pérez   45             Mexico       71         71   \n",
       "18183   53748    K. Pilkington   44            England       48         48   \n",
       "17726   51963        T. Warner   44  Trinidad & Tobago       53         53   \n",
       "10545  140183      S. Narazaki   42              Japan       65         65   \n",
       "7225   142998         C. Muñoz   41          Argentina       68         68   \n",
       "1120   156092        J. Villar   41           Paraguay       77         77   \n",
       "12192  208927     H. Sulaimani   41       Saudi Arabia       63         63   \n",
       "15426   18745         M. Tyler   41            England       59         59   \n",
       "4228     3665         B. Nivet   41             France       71         71   \n",
       "10356   49511         F. Kippe   40             Norway       65         65   \n",
       "16264   28157  P. van der Vlag   40        Netherlands       58         58   \n",
       "9484   176540      B. Castillo   40           Colombia       66         66   \n",
       "4187   156483     C. Lucchetti   40          Argentina       71         71   \n",
       "2821   232543       S. Bertoli   40          Argentina       73         73   \n",
       "3550    29552      S. Nakamura   40              Japan       72         72   \n",
       "1294    14907      A. Bizzarri   40          Argentina       76         76   \n",
       "14129  156480      Y. Nakazawa   40              Japan       61         61   \n",
       "41       1179        G. Buffon   40              Italy       88         88   \n",
       "864    153260           Hilton   40             Brazil       78         78   \n",
       "12453  214372          W. Díaz   40           Colombia       63         63   \n",
       "\n",
       "                               Club   Value  Wage Preferred Foot  \\\n",
       "4741                        Pachuca   160.0   8.0          Right   \n",
       "18183              Cambridge United     NaN   1.0          Right   \n",
       "17726            Accrington Stanley     NaN   1.0          Right   \n",
       "10545                Nagoya Grampus    40.0   1.0          Right   \n",
       "7225   CD Universidad de Concepción    60.0   1.0          Right   \n",
       "1120                            NaN     NaN   0.0          Right   \n",
       "12192                     Ohod Club     NaN   3.0           Left   \n",
       "15426           Peterborough United    10.0   1.0          Right   \n",
       "4228                   ESTAC Troyes     NaN   5.0          Right   \n",
       "10356                 Lillestrøm SK     NaN   1.0           Left   \n",
       "16264                      FC Emmen    10.0   1.0          Right   \n",
       "9484                 Atlético Huila    40.0   1.0          Right   \n",
       "4187               Atlético Tucumán   160.0   4.0          Right   \n",
       "2821                      Patronato   270.0   6.0          Right   \n",
       "3550                   Júbilo Iwata     NaN   4.0           Left   \n",
       "1294                         Foggia   525.0   2.0          Right   \n",
       "14129           Yokohama F. Marinos     NaN   1.0          Right   \n",
       "41              Paris Saint-Germain  4000.0  77.0          Right   \n",
       "864                 Montpellier HSC     NaN  18.0          Right   \n",
       "12453           Jaguares de Córdoba     NaN   1.0          Right   \n",
       "\n",
       "       International Reputation  Skill Moves Position  Joined  \\\n",
       "4741                        2.0          1.0       GK    1991   \n",
       "18183                       1.0          1.0       GK    2018   \n",
       "17726                       1.0          1.0       GK    2018   \n",
       "10545                       2.0          1.0       GK    1999   \n",
       "7225                        1.0          1.0       GK    2013   \n",
       "1120                        2.0          1.0       GK    2016   \n",
       "12192                       1.0          3.0       LB    2018   \n",
       "15426                       1.0          1.0       GK    2016   \n",
       "4228                        2.0          3.0      CAM    2012   \n",
       "10356                       1.0          2.0      LCB    2002   \n",
       "16264                       1.0          1.0       GK    2017   \n",
       "9484                        1.0          1.0       GK    2017   \n",
       "4187                        1.0          1.0       GK    2012   \n",
       "2821                        1.0          1.0       GK    2003   \n",
       "3550                        3.0          3.0      CAM    2017   \n",
       "1294                        2.0          1.0       GK    2018   \n",
       "14129                       2.0          2.0       CB    2002   \n",
       "41                          4.0          1.0       GK    2018   \n",
       "864                         2.0          3.0       CB    2011   \n",
       "12453                       1.0          2.0      LCB    2016   \n",
       "\n",
       "      Contract Valid Until    Height  Weight  Release Clause  \n",
       "4741            2021-01-01  5.666667   165.0      272.000000  \n",
       "18183           2023-01-01  6.166667   190.0     4585.060806  \n",
       "17726           2019-01-01  6.333333   185.0     4585.060806  \n",
       "10545           2021-01-01  6.166667   176.0       50.000000  \n",
       "7225            2018-01-01  5.833333   161.0       84.000000  \n",
       "1120                   NaN  5.916667   187.0     4585.060806  \n",
       "12192           2019-01-01  5.666667   154.0     4585.060806  \n",
       "15426           2019-01-01  6.000000   183.0       18.000000  \n",
       "4228            2019-01-01  5.833333   165.0     4585.060806  \n",
       "10356           2019-01-01  6.333333   214.0     4585.060806  \n",
       "16264           2019-01-01  6.083333   168.0       15.000000  \n",
       "9484            2021-01-01  6.083333   190.0       54.000000  \n",
       "4187            2019-01-01  6.000000   152.0      240.000000  \n",
       "2821            2019-01-01  6.083333   179.0      392.000000  \n",
       "3550            2021-01-01  5.833333   157.0     4585.060806  \n",
       "1294            2019-01-01  6.166667   196.0      840.000000  \n",
       "14129           2022-01-01  6.166667   172.0     4585.060806  \n",
       "41              2019-01-01  6.333333   203.0     7400.000000  \n",
       "864             2019-01-01  5.916667   172.0     4585.060806  \n",
       "12453           2023-01-01  5.833333   168.0     4585.060806  "
      ]
     },
     "execution_count": 28,
     "metadata": {},
     "output_type": "execute_result"
    }
   ],
   "source": [
    "df.sort_values(by=['Age'], ascending=False).head(20)"
   ]
  },
  {
   "cell_type": "code",
   "execution_count": 30,
   "metadata": {},
   "outputs": [
    {
     "data": {
      "text/html": [
       "<div>\n",
       "<style scoped>\n",
       "    .dataframe tbody tr th:only-of-type {\n",
       "        vertical-align: middle;\n",
       "    }\n",
       "\n",
       "    .dataframe tbody tr th {\n",
       "        vertical-align: top;\n",
       "    }\n",
       "\n",
       "    .dataframe thead th {\n",
       "        text-align: right;\n",
       "    }\n",
       "</style>\n",
       "<table border=\"1\" class=\"dataframe\">\n",
       "  <thead>\n",
       "    <tr style=\"text-align: right;\">\n",
       "      <th></th>\n",
       "      <th>Name</th>\n",
       "      <th>Age</th>\n",
       "    </tr>\n",
       "  </thead>\n",
       "  <tbody>\n",
       "    <tr>\n",
       "      <th>4741</th>\n",
       "      <td>O. Pérez</td>\n",
       "      <td>45</td>\n",
       "    </tr>\n",
       "    <tr>\n",
       "      <th>18183</th>\n",
       "      <td>K. Pilkington</td>\n",
       "      <td>44</td>\n",
       "    </tr>\n",
       "    <tr>\n",
       "      <th>17726</th>\n",
       "      <td>T. Warner</td>\n",
       "      <td>44</td>\n",
       "    </tr>\n",
       "    <tr>\n",
       "      <th>10545</th>\n",
       "      <td>S. Narazaki</td>\n",
       "      <td>42</td>\n",
       "    </tr>\n",
       "    <tr>\n",
       "      <th>7225</th>\n",
       "      <td>C. Muñoz</td>\n",
       "      <td>41</td>\n",
       "    </tr>\n",
       "    <tr>\n",
       "      <th>1120</th>\n",
       "      <td>J. Villar</td>\n",
       "      <td>41</td>\n",
       "    </tr>\n",
       "    <tr>\n",
       "      <th>12192</th>\n",
       "      <td>H. Sulaimani</td>\n",
       "      <td>41</td>\n",
       "    </tr>\n",
       "    <tr>\n",
       "      <th>15426</th>\n",
       "      <td>M. Tyler</td>\n",
       "      <td>41</td>\n",
       "    </tr>\n",
       "    <tr>\n",
       "      <th>4228</th>\n",
       "      <td>B. Nivet</td>\n",
       "      <td>41</td>\n",
       "    </tr>\n",
       "    <tr>\n",
       "      <th>10356</th>\n",
       "      <td>F. Kippe</td>\n",
       "      <td>40</td>\n",
       "    </tr>\n",
       "  </tbody>\n",
       "</table>\n",
       "</div>"
      ],
      "text/plain": [
       "                Name  Age\n",
       "4741        O. Pérez   45\n",
       "18183  K. Pilkington   44\n",
       "17726      T. Warner   44\n",
       "10545    S. Narazaki   42\n",
       "7225        C. Muñoz   41\n",
       "1120       J. Villar   41\n",
       "12192   H. Sulaimani   41\n",
       "15426       M. Tyler   41\n",
       "4228        B. Nivet   41\n",
       "10356       F. Kippe   40"
      ]
     },
     "execution_count": 30,
     "metadata": {},
     "output_type": "execute_result"
    }
   ],
   "source": [
    "import matplotlib as plt\n",
    "from matplotlib.ticker import StrMethodFormatter\n",
    "\n",
    "x = df.sort_values(by=['Age'], ascending=False).head(10)[['Name', 'Age']]\n",
    "x"
   ]
  },
  {
   "cell_type": "code",
   "execution_count": 31,
   "metadata": {},
   "outputs": [
    {
     "data": {
      "image/png": "[encoded data removed]",
      "text/plain": [
       "<Figure size 640x480 with 1 Axes>"
      ]
     },
     "metadata": {},
     "output_type": "display_data"
    }
   ],
   "source": [
    "ax = x.plot.barh( y ='Age', x = 'Name',color='b', title= 'Los TOP 10' )"
   ]
  },
  {
   "cell_type": "code",
   "execution_count": null,
   "metadata": {},
   "outputs": [],
   "source": []
  }
 ],
 "metadata": {
  "kernelspec": {
   "display_name": "base",
   "language": "python",
   "name": "python3"
  },
  "language_info": {
   "codemirror_mode": {
    "name": "ipython",
    "version": 3
   },
   "file_extension": ".py",
   "mimetype": "text/x-python",
   "name": "python",
   "nbconvert_exporter": "python",
   "pygments_lexer": "ipython3",
   "version": "3.11.7"
  }
 },
 "nbformat": 4,
 "nbformat_minor": 2
}
